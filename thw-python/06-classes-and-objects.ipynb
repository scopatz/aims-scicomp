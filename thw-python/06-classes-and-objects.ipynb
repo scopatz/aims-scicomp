{
 "metadata": {
  "name": ""
 },
 "nbformat": 3,
 "nbformat_minor": 0,
 "worksheets": [
  {
   "cells": [
    {
     "cell_type": "markdown",
     "metadata": {},
     "source": [
      "# Classes and Objects\n",
      "\n",
      "**Materials by Tommy Guy and Anthony Scopatz**"
     ]
    },
    {
     "cell_type": "markdown",
     "metadata": {},
     "source": [
      "## Object Orientation\n",
      "\n",
      "**Object oriented programming** is a way of thinking about and defining how different pieces of software and ideas work together. In objected oriented programming, there are two main interfaces: **classes** and **objects**.  \n",
      "\n",
      "* **Classes** are types of things such as int, float, person, or square.\n",
      "* **Objects** are **instances** of those types such a 1, 42.0, me, and a square with side length 2.\n",
      "\n",
      "Unlike functional or procedural paradigms, there are three main features that classes provide.\n",
      "\n",
      "* **Encapsulation:** Classes are container which may have any kind of other programming element living on them: variables, functions, and even other classes. In Python, members of a class are known as **attributes** for normal variables and **methods** for functions.\n",
      "* **Inheritence:** A class may automatically gain all of the attributes and methods from another class it is related to.  The new class is called a  **subclass** or sometimes a **subtype**.  Multiple levels of inheritance sets up a **class heirarchy**. For example:\n",
      "\n",
      "    - Shape is a class with an area attribute.\n",
      "    - Rectangle is a subclass of Shape.\n",
      "    - Square is a subclass of Rectangle (which also makes it a subclass of Shape).\n",
      "    \n",
      "* **Polymorphism:** Subclasses may override methods and attributes of their parents in a way that suitable to them.  For example:.\n",
      "\n",
      "    - Shape is a class with an area method.\n",
      "    - Square is a subclass of Shape which computes area by $x^2$.\n",
      "    - Circle is a subclass of Shape which computes area by $\\pi r^2$\n",
      "\n",
      "If this seems more complicated than writing functions and calling them in sequence that is because it is!   However, obeject orientation enables authors to cleanly separate out ideas into independent classes.  It is also good to know because in many languages - Python included - it is the way that you modify the type system. "
     ]
    },
    {
     "cell_type": "markdown",
     "metadata": {},
     "source": [
      "## Basic Classes\n",
      "\n",
      "Object oriented programming revolves around the creation and\n",
      "manipulation of objects that have attributes and can do things. They can\n",
      "be as simple as a coordinate with x and y values or as complicated as a\n",
      "dynamic webpage framework. Here is the code for making a very simple class \n",
      "that sets an attribute. "
     ]
    },
    {
     "cell_type": "code",
     "collapsed": false,
     "input": [
      "class MyClass(object):\n",
      "    def me(self, name):\n",
      "        self.name = name"
     ],
     "language": "python",
     "metadata": {},
     "outputs": [],
     "prompt_number": 1
    },
    {
     "cell_type": "code",
     "collapsed": false,
     "input": [
      "my_object = MyClass()"
     ],
     "language": "python",
     "metadata": {},
     "outputs": [],
     "prompt_number": 2
    },
    {
     "cell_type": "code",
     "collapsed": false,
     "input": [
      "type(my_object)"
     ],
     "language": "python",
     "metadata": {},
     "outputs": [
      {
       "metadata": {},
       "output_type": "pyout",
       "prompt_number": 3,
       "text": [
        "__main__.MyClass"
       ]
      }
     ],
     "prompt_number": 3
    },
    {
     "cell_type": "code",
     "collapsed": false,
     "input": [
      "my_object.name = 'Anthony'\n",
      "print my_object.name"
     ],
     "language": "python",
     "metadata": {},
     "outputs": [
      {
       "output_type": "stream",
       "stream": "stdout",
       "text": [
        "Anthony\n"
       ]
      }
     ],
     "prompt_number": 6
    },
    {
     "cell_type": "code",
     "collapsed": false,
     "input": [
      "my_object.me('Jan')\n",
      "print my_object.name"
     ],
     "language": "python",
     "metadata": {},
     "outputs": [
      {
       "output_type": "stream",
       "stream": "stdout",
       "text": [
        "Jan\n"
       ]
      }
     ],
     "prompt_number": 7
    },
    {
     "cell_type": "markdown",
     "metadata": {},
     "source": [
      "In the object oriented terminology above:\n",
      "\n",
      "- MyClass - a user defined type.\n",
      "- my_object - a MyClass instance.\n",
      "- me() - a MyClass method (member function)\n",
      "- self - a refernce to the object that is used to define method.  This must be the first agument of any method.\n",
      "- name - an attribute (member variable) of MyClass.\n",
      "\n",
      "You *write* a class and you *create* and object."
     ]
    },
    {
     "cell_type": "markdown",
     "metadata": {},
     "source": [
      "**Hands on Example**\n",
      "\n",
      "Write an Atom class with mass and velocity attributes and an energy() method."
     ]
    },
    {
     "cell_type": "code",
     "collapsed": false,
     "input": [],
     "language": "python",
     "metadata": {},
     "outputs": []
    },
    {
     "cell_type": "markdown",
     "metadata": {},
     "source": [
      "Here is a more complex and realisitic example of a matrix class:"
     ]
    },
    {
     "cell_type": "code",
     "collapsed": false,
     "input": [
      "# Matrix defines a real, 2-d matrix.\n",
      "\n",
      "class Matrix(object):\n",
      "    # I am a matrix of real numbers\n",
      "\n",
      "    def __init__(self, h, w):\n",
      "        self._nrows = h\n",
      "        self._ncols = w\n",
      "        self._data = [0] * (self._nrows * self._ncols)\n",
      "\n",
      "    def __str__(self):\n",
      "        return \"Matrix: \" + str(self._nrows) + \" by \" + str(self._ncols)\n",
      "\n",
      "    def setnrows(self, w):\n",
      "        self._nrows = w\n",
      "        self.reinit()\n",
      "\n",
      "    def getnrows(self):\n",
      "        return self._nrows\n",
      "\n",
      "    def getncols(self):\n",
      "        return self._ncols\n",
      "\n",
      "    def reinit(self):\n",
      "        self._data = [0] * (self._nrows * self._ncols)\n",
      "\n",
      "    def setncols(self, h):\n",
      "        self._ncols = h\n",
      "        self.reinit()\n",
      "\n",
      "    def setvalue(self, i, j, value):\n",
      "        if i < self._nrows and j < self._ncols:\n",
      "            self._data[i * self._nrows + j] = value\n",
      "        else:\n",
      "            raise Exception(\"Out of range\")\n",
      "\n",
      "    def multiply(self, other):\n",
      "        # Perform matrix multiplication and return a new matrix.\n",
      "        # The new matrix is on the left.\n",
      "        result = Matrix(self._nrows, other.getncols())\n",
      "        # Do multiplication...\n",
      "        return result\n",
      "\n",
      "    def inv(self):\n",
      "        # Invert matrix \n",
      "        if self._ncols != self._nrows:\n",
      "            raise Exception(\"Only square matrices are invertible\")\n",
      "        inverted = Matrix(self._ncols, self._nrows)\n",
      "        inverted.setncols(self._ncols)\n",
      "        inverted.setnrows(self._ncols)\n",
      "        return inverted"
     ],
     "language": "python",
     "metadata": {},
     "outputs": [],
     "prompt_number": 14
    },
    {
     "cell_type": "markdown",
     "metadata": {},
     "source": [
      "## Interface vs. Implementation\n",
      "\n",
      "Users shouldn't have to know *how* your program works in order to use\n",
      "it.\n",
      "\n",
      "The interface is a **contract** saying what a class knows how to do. The\n",
      "code above defines matrix multiplication, which means that\n",
      "mat1.multiply(mat2) should always return the right answer. It turns out\n",
      "there are many ways to multiply matrices, and there are whole Ph.Ds\n",
      "written on performing efficient matrix inversion. The implementation is\n",
      "the way in which the contract is carried out."
     ]
    },
    {
     "cell_type": "markdown",
     "metadata": {},
     "source": [
      "##Constructors\n",
      "\n",
      "Usually you want to create an object with a set of initial or default values for\n",
      "things. Perhaps an object needs certain information to be created. For\n",
      "this you write a **constructor**. In python, constructors are just methods\n",
      "with the special name ``__init__()``:"
     ]
    },
    {
     "cell_type": "code",
     "collapsed": false,
     "input": [
      "class Person(object):\n",
      "    def __init__(self):\n",
      "        self.name = \"Anthony\""
     ],
     "language": "python",
     "metadata": {},
     "outputs": [],
     "prompt_number": 8
    },
    {
     "cell_type": "code",
     "collapsed": false,
     "input": [
      "person = Person()\n",
      "print person.name"
     ],
     "language": "python",
     "metadata": {},
     "outputs": [
      {
       "output_type": "stream",
       "stream": "stdout",
       "text": [
        "Anthony\n"
       ]
      }
     ],
     "prompt_number": 9
    },
    {
     "cell_type": "markdown",
     "metadata": {},
     "source": [
      "Constructors may take arguements just like any other method or function."
     ]
    },
    {
     "cell_type": "code",
     "collapsed": false,
     "input": [
      "class Person(object):\n",
      "    def __init__(self, name, title=\"The Best\"):\n",
      "        self.name = name\n",
      "        self.title = title"
     ],
     "language": "python",
     "metadata": {},
     "outputs": [],
     "prompt_number": 10
    },
    {
     "cell_type": "code",
     "collapsed": false,
     "input": [
      "anthony = Person(\"Anthony\")\n",
      "print anthony.name, anthony.title"
     ],
     "language": "python",
     "metadata": {},
     "outputs": [
      {
       "output_type": "stream",
       "stream": "stdout",
       "text": [
        "Anthony The Best\n"
       ]
      }
     ],
     "prompt_number": 11
    },
    {
     "cell_type": "code",
     "collapsed": false,
     "input": [
      "jan = Person(\"Jan\", \"The Greatest\")\n",
      "print jan.name, jan.title"
     ],
     "language": "python",
     "metadata": {},
     "outputs": [
      {
       "output_type": "stream",
       "stream": "stdout",
       "text": [
        "Jan The Greatest\n"
       ]
      }
     ],
     "prompt_number": 12
    },
    {
     "cell_type": "markdown",
     "metadata": {},
     "source": [
      "## Subclassing\n",
      "\n",
      "If you want a to create a class that behaves mostly like another class,\n",
      "you should not have to copy code. What you do is subclass and change the\n",
      "things that need changing. When we created classes we were already\n",
      "subclassing the built in python class \"object.\"\n",
      "\n",
      "For example, let's say you want to write a sparse matrix class, which\n",
      "means that you don't explicitly store zero elements. You can create a\n",
      "subclass of the Matrix class that redefines the matrix operations."
     ]
    },
    {
     "cell_type": "code",
     "collapsed": false,
     "input": [
      "class SparseMatrix(Matrix):\n",
      "    # I am a matrix of real numbers\n",
      "\n",
      "    def __str__(self):\n",
      "        return \"SparseMatrix: \" + str(self._nrows) + \" by \" + str(self._ncols)\n",
      "\n",
      "    def reinit(self):\n",
      "        self._data = {}\n",
      "\n",
      "    def setValue(self, i, j, value):\n",
      "        self._data[(i,j)] = value\n",
      "\n",
      "    def multiply(self, other):\n",
      "        # Perform matrix multiplication and return a new matrix.\n",
      "        # The new matrix is on the left.\n",
      "        result = SparseMatrix(self._nrows, other.getncols())\n",
      "        # Do multiplication...\n",
      "        return result\n",
      "\n",
      "    def inv(self):\n",
      "        # Invert matrix\n",
      "        if self._nrows != self._rcols: \n",
      "            raise Exception(\"Only square matrices are invertible\")\n",
      "        inverted = SparseMatrix(self._ncols, self._nrows)\n"
     ],
     "language": "python",
     "metadata": {},
     "outputs": [],
     "prompt_number": 16
    },
    {
     "cell_type": "markdown",
     "metadata": {},
     "source": [
      "The SparseMatrix object is a Matrix but some methods are defined in the *superclass* Matrix.  You can see this by looking at the dir of the SparseMatrix and noting that it gets attributes from Matrix."
     ]
    },
    {
     "cell_type": "code",
     "collapsed": false,
     "input": [
      "dir(SparseMatrix) "
     ],
     "language": "python",
     "metadata": {},
     "outputs": [
      {
       "metadata": {},
       "output_type": "pyout",
       "prompt_number": 17,
       "text": [
        "['__class__',\n",
        " '__delattr__',\n",
        " '__dict__',\n",
        " '__doc__',\n",
        " '__format__',\n",
        " '__getattribute__',\n",
        " '__hash__',\n",
        " '__init__',\n",
        " '__module__',\n",
        " '__new__',\n",
        " '__reduce__',\n",
        " '__reduce_ex__',\n",
        " '__repr__',\n",
        " '__setattr__',\n",
        " '__sizeof__',\n",
        " '__str__',\n",
        " '__subclasshook__',\n",
        " '__weakref__',\n",
        " 'getncols',\n",
        " 'getnrows',\n",
        " 'inv',\n",
        " 'multiply',\n",
        " 'reinit',\n",
        " 'setValue',\n",
        " 'setncols',\n",
        " 'setnrows',\n",
        " 'setvalue']"
       ]
      }
     ],
     "prompt_number": 17
    },
    {
     "cell_type": "markdown",
     "metadata": {},
     "source": [
      "A more minimal and more abstact version of inheritence may be seen here:"
     ]
    },
    {
     "cell_type": "code",
     "collapsed": false,
     "input": [
      "class A(object):\n",
      "    a = 1\n",
      "\n",
      "class B(A):\n",
      "    b = 2\n",
      "    \n",
      "class C(B):\n",
      "    b = 42\n",
      "    c = 3\n",
      "\n",
      "x = C()\n",
      "print x.a, x.b, x.c"
     ],
     "language": "python",
     "metadata": {},
     "outputs": [
      {
       "output_type": "stream",
       "stream": "stdout",
       "text": [
        "1 42 3\n"
       ]
      }
     ],
     "prompt_number": 21
    },
    {
     "cell_type": "markdown",
     "metadata": {},
     "source": [
      "## Properties"
     ]
    },
    {
     "cell_type": "markdown",
     "metadata": {},
     "source": [
      "## Data Model"
     ]
    },
    {
     "cell_type": "code",
     "collapsed": false,
     "input": [],
     "language": "python",
     "metadata": {},
     "outputs": []
    }
   ],
   "metadata": {}
  }
 ]
}