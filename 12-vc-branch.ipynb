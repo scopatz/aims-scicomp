{
 "metadata": {
  "name": ""
 },
 "nbformat": 3,
 "nbformat_minor": 0,
 "worksheets": [
  {
   "cells": [
    {
     "cell_type": "markdown",
     "metadata": {},
     "source": [
      "# Git : Branching in Version Control\n",
      "\n",
      "**Based on materials by Katy Huff, Anthony Scopatz, Joshua R. Smith, Sri \n",
      "Hari Krishna Narayanan, and Matthew Gidden**"
     ]
    },
    {
     "cell_type": "markdown",
     "metadata": {},
     "source": [
      "## git branch : Listing, Creating, and Deleting Branches\n",
      "\n",
      "Branches are parallel instances of a repository that can be edited and\n",
      "version controlled in parallel. They are useful for pursuing various\n",
      "implementations experimentally or maintaining a stable core while\n",
      "developing separate sections of a code base.\n",
      "\n",
      "Without an argument, the **branch** command lists the branches that\n",
      "exist in your repository.\n",
      "\n",
      "    $ git branch\n",
      "    * master\n",
      "\n",
      "The master branch is created when the repository is initialized. With an\n",
      "argument, the **branch** command creates a new branch with the given\n",
      "name.\n",
      "\n",
      "    $ git branch experimental\n",
      "\n",
      "    $ git branch\n",
      "    * master\n",
      "      experimental\n",
      "\n",
      "To delete a branch, use the **-d** flag.\n",
      "\n",
      "    $ git branch -d experimental\n",
      "\n",
      "    $ git branch\n",
      "    * master\n"
     ]
    },
    {
     "cell_type": "markdown",
     "metadata": {},
     "source": [
      "## git checkout : Switching Between Branches, Abandoning Local Changes\n",
      "\n",
      "The **git checkout** command allows context switching between branches\n",
      "as well as abandoning local changes.\n",
      "\n",
      "To switch between branches, try\n",
      "\n",
      "    $ git branch add_stats\n",
      "\n",
      "    $ git checkout add_stats\n",
      "\n",
      "    $ git branch\n",
      "\n",
      "How can you tell we've switched between branches? When we used the\n",
      "branch command before there was an asterisk next to the master branch.\n",
      "That's because the asterisk indicates which branch you're currently in."
     ]
    },
    {
     "cell_type": "markdown",
     "metadata": {},
     "source": [
      "* * * * \n",
      "### Exercise : Copy files into your repo\n",
      "\n",
      "Let's make sure we have a good copy of `stats.py` and `test_stats.py`.\n",
      "\n",
      "    $ cd ~/simplestats\n",
      "\n",
      "    $ cp ~/scicomp/python/testing/stats.py .\n",
      "\n",
      "    $ cp ~/scicomp/python/testing/test_stats.py .\n",
      "\n",
      "Now let's add them to our repo, but in the current branch.\n",
      "\n",
      "    $ git add *stats.py\n",
      "\n",
      "    $ git commit -m \"Adding a first version of the files for mean.\"\n",
      "\n",
      "* * * *"
     ]
    },
    {
     "cell_type": "markdown",
     "metadata": {},
     "source": [
      "### Exercise : Add a comment to one of the stats files.\n",
      "\n",
      "1. Open either `stats.py` or `test_stats.py` in the text editor of your choice.\n",
      "2. Add a comment line to this file with your name.  Comment lines in Python start with the `#` character.  For exmaple, \n",
      "\n",
      "   ```python\n",
      "   # Anthony is a very nice teacher\n",
      "   ```\n",
      "   \n",
      "3. Commit the changed files to your repo.\n",
      "\n",
      "* * * * "
     ]
    },
    {
     "cell_type": "markdown",
     "metadata": {},
     "source": [
      "### Exercise (Optional) : Add an additional test for std() and commit the changes.\n",
      "\n",
      "1. Write an additional test for std().  *(Ask us for a tip if necessary)*\n",
      "2. Improve std() to pass this test.\n",
      "3. Commit the changed files to your repo.\n",
      "\n",
      "* * * * "
     ]
    },
    {
     "cell_type": "markdown",
     "metadata": {},
     "source": [
      "## git merge : Merging Branches\n",
      "\n",
      "At some point, the `add_stats` branch may be ready to become part of\n",
      "the `master` branch.  In real life, we might do a lot more testing and\n",
      "development.  For now, let's assume that our mean function is ready\n",
      "and merge this back to the master.  One method for combining the\n",
      "changes in two parallel branches is the **merge** command.\n",
      "\n",
      "    $ git checkout master\n",
      "    \n",
      "    $ git merge add_stats\n"
     ]
    },
    {
     "cell_type": "markdown",
     "metadata": {},
     "source": [
      "## Aside: Make your Prompt Pretty\n",
      "\n",
      "In the next section, we'll get into the gritty details of remotes and branches\n",
      "as we head toward web-based storage of your repositories. It turns out that some\n",
      "folks have created a way to make this kind of navigation more convenient,\n",
      "showing you what branch you're on using your bash prompt. Some super nice\n",
      "properties also include color-coding when you've got changed files or when your\n",
      "branch is fresh.\n",
      "\n",
      "* * * * \n",
      "### Exercise : Update your prompt\n",
      "\n",
      "Step 1 : Copy the following lines into your ~/.bashrc file (taken from a\n",
      "combination of [two](http://stackoverflow.com/a/6086978)\n",
      "[sources](https://gist.github.com/woods/31967)).\n",
      "\n",
      "    function color_my_prompt {\n",
      "        local __user_and_host=\"\\[\\033[01;32m\\]\\u@\\h\"\n",
      "        local __cur_location=\"\\[\\033[01;34m\\]\\w\"\n",
      "        local __git_branch='`git branch 2> /dev/null | grep -e ^* | sed -E  s/^\\\\\\\\\\*\\ \\(.+\\)$/\\(\\\\\\\\\\1\\)\\ /`'\n",
      "        local __prompt_tail=\"\\[\\033[35m\\]$\"\n",
      "        local __last_color=\"\\[\\033[00m\\]\"\n",
      "\n",
      "        RED=\"\\[\\033[0;31m\\]\"\n",
      "        YELLOW=\"\\[\\033[0;33m\\]\"\n",
      "        GREEN=\"\\[\\033[0;32m\\]\"\n",
      "\n",
      "        # Capture the output of the \"git status\" command.\n",
      "        git_status=\"$(git status 2> /dev/null)\"\n",
      "\n",
      "        # Set color based on clean/staged/dirty.\n",
      "        if [[ ${git_status} =~ \"working directory clean\" ]]; then\n",
      "            state=\"${GREEN}\"\n",
      "        elif [[ ${git_status} =~ \"Changes to be committed\" ]]; then\n",
      "            state=\"${YELLOW}\"\n",
      "        else\n",
      "            state=\"${RED}\"\n",
      "        fi\n",
      "\n",
      "        export PS1=\"$__user_and_host $__cur_location ${state}$__git_branch$__prompt_tail$__last_color \"\n",
      "    }\n",
      "\n",
      "    # Tell bash to execute this function just before displaying its prompt.\n",
      "    PROMPT_COMMAND=color_my_prompt\n",
      "\n",
      "\n",
      "Step 2 : Source your bashrc (it'll change immediately)\n",
      "\n",
      "    $ source ~/.bashrc\n",
      "\n",
      "Step 3 : Play around with it.\n",
      "\n",
      "* * * "
     ]
    },
    {
     "cell_type": "markdown",
     "metadata": {},
     "source": [
      "## Resources\n",
      "\n",
      "1. [git book](http://git-scm.com/book) - Free and Open"
     ]
    },
    {
     "cell_type": "code",
     "collapsed": false,
     "input": [],
     "language": "python",
     "metadata": {},
     "outputs": []
    }
   ],
   "metadata": {}
  }
 ]
}